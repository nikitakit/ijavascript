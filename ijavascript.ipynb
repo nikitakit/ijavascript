{
 "metadata": {
  "kernelspec": {
   "codemirror_mode": {
    "name": "ipython",
    "version": 2
   },
   "display_name": "IPython (Python 2)",
   "language": "python",
   "name": "python2"
  },
  "name": "",
  "signature": "sha256:7cf67e3e77811fb18627a1a9d3365e46db86bc50748b9fab03eccd0c3502362e"
 },
 "nbformat": 3,
 "nbformat_minor": 0,
 "worksheets": [
  {
   "cells": [
    {
     "cell_type": "code",
     "collapsed": false,
     "input": [
      "import IPython.display"
     ],
     "language": "python",
     "metadata": {},
     "outputs": [],
     "prompt_number": 1
    },
    {
     "cell_type": "code",
     "collapsed": false,
     "input": [
      "from IPython.core.magic import (register_line_magic, register_cell_magic,\n",
      "                                register_line_cell_magic)"
     ],
     "language": "python",
     "metadata": {},
     "outputs": [],
     "prompt_number": 2
    },
    {
     "cell_type": "code",
     "collapsed": false,
     "input": [
      "from IPython.html.widgets import *"
     ],
     "language": "python",
     "metadata": {},
     "outputs": [],
     "prompt_number": 3
    },
    {
     "cell_type": "code",
     "collapsed": false,
     "input": [
      "import json"
     ],
     "language": "python",
     "metadata": {},
     "outputs": [],
     "prompt_number": 4
    },
    {
     "cell_type": "code",
     "collapsed": false,
     "input": [
      "import uuid"
     ],
     "language": "python",
     "metadata": {},
     "outputs": [],
     "prompt_number": 5
    },
    {
     "cell_type": "code",
     "collapsed": false,
     "input": [
      "def get_random_id():\n",
      "    return \"_el_\" + \"\".join(str(uuid.uuid4()).split(\"-\"))"
     ],
     "language": "python",
     "metadata": {},
     "outputs": [],
     "prompt_number": 6
    },
    {
     "cell_type": "code",
     "collapsed": false,
     "input": [
      "last_iframe_id = None\n",
      "@register_cell_magic\n",
      "def iframe(line, cell):\n",
      "    global last_iframe_id\n",
      "    if line == \"new\" or not last_iframe_id:\n",
      "        my_id = get_random_id()\n",
      "        last_iframe_id = my_id\n",
      "        print \"Frame ID:\", my_id\n",
      "        h = IPython.display.HTML(\"\"\"\n",
      "    <script type=\"text/javascript\">\n",
      "    function _subframe_cb(ex) {{\n",
      "        ex({text});\n",
      "    }}\n",
      "    </script>\n",
      "\n",
      "    <iframe\n",
      "        id=\"{id}\"\n",
      "        src=\"/static/frame.html\"\n",
      "        width=\"95%\" height=\"200px\" style=\"border:none\">\n",
      "    </iframe>\n",
      "    \"\"\".format(id=my_id, text=json.dumps(cell)))\n",
      "    elif line:\n",
      "        print \"Output streamed to iframe\", line\n",
      "        h = IPython.display.HTML(\"\"\"\n",
      "    <script type=\"text/javascript\">\n",
      "        $(\"#{id}\")[0].contentWindow.execute({text});\n",
      "    </script>\n",
      "    \"\"\".format(id=line, text=json.dumps(cell)))\n",
      "    else:\n",
      "        print \"Output streamed to iframe\", last_iframe_id\n",
      "        h = IPython.display.HTML(\"\"\"\n",
      "    <script type=\"text/javascript\">\n",
      "        $(\"#{id}\")[0].contentWindow.execute({text});\n",
      "    </script>\n",
      "    \"\"\".format(id=last_iframe_id, text=json.dumps(cell)))\n",
      "    \n",
      "    IPython.display.display(h)"
     ],
     "language": "python",
     "metadata": {},
     "outputs": [],
     "prompt_number": 7
    },
    {
     "cell_type": "code",
     "collapsed": false,
     "input": [
      "@register_cell_magic\n",
      "def iframejs(line, cell):\n",
      "    global last_iframe_id\n",
      "    if not line or line == \"last\":\n",
      "        line = last_iframe_id\n",
      "    h = IPython.display.HTML(\"\"\"\n",
      "    <script type=\"text/javascript\">\n",
      "        $(\"#{id}\")[0].contentWindow.js_execute({text});\n",
      "    </script>\n",
      "    \"\"\".format(id=line, text=json.dumps(cell)))  \n",
      "    \n",
      "    IPython.display.display(h)"
     ],
     "language": "python",
     "metadata": {},
     "outputs": [],
     "prompt_number": 8
    },
    {
     "cell_type": "code",
     "collapsed": false,
     "input": [
      "%%iframe new\n",
      "for i in range(10):\n",
      "    print i\n",
      "IPython.display.display(IntSlider())\n",
      "5+5"
     ],
     "language": "python",
     "metadata": {},
     "outputs": [
      {
       "output_type": "stream",
       "stream": "stdout",
       "text": [
        "Frame ID: _el_9f4a9fef518a43e78042733139b5f798\n"
       ]
      },
      {
       "html": [
        "\n",
        "    <script type=\"text/javascript\">\n",
        "    function _subframe_cb(ex) {\n",
        "        ex(\"for i in range(10):\\n    print i\\nIPython.display.display(IntSlider())\\n5+5\");\n",
        "    }\n",
        "    </script>\n",
        "\n",
        "    <iframe\n",
        "        id=\"_el_9f4a9fef518a43e78042733139b5f798\"\n",
        "        src=\"/static/frame.html\"\n",
        "        width=\"95%\" height=\"200px\" style=\"border:none\">\n",
        "    </iframe>\n",
        "    "
       ],
       "metadata": {},
       "output_type": "display_data",
       "text": [
        "<IPython.core.display.HTML object>"
       ]
      }
     ],
     "prompt_number": 9
    },
    {
     "cell_type": "code",
     "collapsed": false,
     "input": [
      "def foo(x):\n",
      "    global last_x\n",
      "    last_x = x\n",
      "    print x"
     ],
     "language": "python",
     "metadata": {},
     "outputs": [],
     "prompt_number": 11
    },
    {
     "cell_type": "code",
     "collapsed": false,
     "input": [
      "%%iframe\n",
      "print 5"
     ],
     "language": "python",
     "metadata": {},
     "outputs": [
      {
       "output_type": "stream",
       "stream": "stdout",
       "text": [
        "Output streamed to iframe _el_9f4a9fef518a43e78042733139b5f798\n"
       ]
      },
      {
       "html": [
        "\n",
        "    <script type=\"text/javascript\">\n",
        "        $(\"#_el_9f4a9fef518a43e78042733139b5f798\")[0].contentWindow.execute(\"print 5\");\n",
        "    </script>\n",
        "    "
       ],
       "metadata": {},
       "output_type": "display_data",
       "text": [
        "<IPython.core.display.HTML object>"
       ]
      }
     ],
     "prompt_number": 12
    },
    {
     "cell_type": "code",
     "collapsed": false,
     "input": [
      "%%iframe\n",
      "IPython.display.clear_output()\n",
      "w = interactive(foo, x=5) # prints 5 to the console\n",
      "foo.widget = w\n",
      "IPython.display.display(w)"
     ],
     "language": "python",
     "metadata": {},
     "outputs": [
      {
       "output_type": "stream",
       "stream": "stdout",
       "text": [
        "Output streamed to iframe _el_9f4a9fef518a43e78042733139b5f798\n"
       ]
      },
      {
       "html": [
        "\n",
        "    <script type=\"text/javascript\">\n",
        "        $(\"#_el_9f4a9fef518a43e78042733139b5f798\")[0].contentWindow.execute(\"IPython.display.clear_output()\\nw = interactive(foo, x=5) # prints 5 to the console\\nfoo.widget = w\\nIPython.display.display(w)\");\n",
        "    </script>\n",
        "    "
       ],
       "metadata": {},
       "output_type": "display_data",
       "text": [
        "<IPython.core.display.HTML object>"
       ]
      }
     ],
     "prompt_number": 14
    },
    {
     "cell_type": "code",
     "collapsed": false,
     "input": [
      "%%iframejs\n",
      "console.log(\"hello world\")"
     ],
     "language": "python",
     "metadata": {},
     "outputs": [
      {
       "html": [
        "\n",
        "    <script type=\"text/javascript\">\n",
        "        $(\"#_el_9f4a9fef518a43e78042733139b5f798\")[0].contentWindow.js_execute(\"console.log(\\\"hello world\\\")\");\n",
        "    </script>\n",
        "    "
       ],
       "metadata": {},
       "output_type": "display_data",
       "text": [
        "<IPython.core.display.HTML object>"
       ]
      }
     ],
     "prompt_number": 18
    },
    {
     "cell_type": "code",
     "collapsed": false,
     "input": [],
     "language": "python",
     "metadata": {},
     "outputs": []
    },
    {
     "cell_type": "code",
     "collapsed": false,
     "input": [],
     "language": "python",
     "metadata": {},
     "outputs": []
    },
    {
     "cell_type": "code",
     "collapsed": false,
     "input": [],
     "language": "python",
     "metadata": {},
     "outputs": []
    },
    {
     "cell_type": "code",
     "collapsed": false,
     "input": [],
     "language": "python",
     "metadata": {},
     "outputs": []
    },
    {
     "cell_type": "code",
     "collapsed": false,
     "input": [],
     "language": "python",
     "metadata": {},
     "outputs": []
    },
    {
     "cell_type": "code",
     "collapsed": false,
     "input": [],
     "language": "python",
     "metadata": {},
     "outputs": []
    },
    {
     "cell_type": "code",
     "collapsed": false,
     "input": [
      "IPython.html.widgets.widget_float.Float"
     ],
     "language": "python",
     "metadata": {},
     "outputs": [
      {
       "metadata": {},
       "output_type": "pyout",
       "prompt_number": 21,
       "text": [
        "<module 'IPython.html.widgets.widget_float' from '/usr/local/lib/python2.7/dist-packages/IPython/html/widgets/widget_float.pyc'>"
       ]
      }
     ],
     "prompt_number": 21
    },
    {
     "cell_type": "code",
     "collapsed": false,
     "input": [
      "from __future__ import print_function # For py 2.7 compat\n",
      "\n",
      "from IPython.html import widgets # Widget definitions\n",
      "from IPython.display import display # Used to display widgets in the notebook\n",
      "from IPython.utils.traitlets import Unicode # Used to declare attributes of our widget\n",
      "from IPython.display import HTML, Javascript\n",
      "from IPython.html.widgets.widget_bool import _Bool\n",
      "from IPython.html.widgets.widget_float import FloatSlider\n",
      "from IPython.utils.traitlets import CInt, CFloat, Unicode\n",
      "from IPython.html.widgets.widget import DOMWidget\n",
      "\n"
     ],
     "language": "python",
     "metadata": {},
     "outputs": [],
     "prompt_number": 53
    },
    {
     "cell_type": "code",
     "collapsed": false,
     "input": [
      "%%iframe\n",
      "IPython.display.clear_output()"
     ],
     "language": "python",
     "metadata": {},
     "outputs": [
      {
       "output_type": "stream",
       "stream": "stdout",
       "text": [
        "Output streamed to iframe _el_b963a033e8034a4da0aca7b769640bf6\n"
       ]
      },
      {
       "html": [
        "\n",
        "    <script type=\"text/javascript\">\n",
        "        $(\"#_el_b963a033e8034a4da0aca7b769640bf6\")[0].contentWindow.execute(\"IPython.display.clear_output()\");\n",
        "    </script>\n",
        "    "
       ],
       "metadata": {},
       "output_type": "display_data",
       "text": [
        "<IPython.core.display.HTML object>"
       ]
      }
     ],
     "prompt_number": 30
    },
    {
     "cell_type": "code",
     "collapsed": false,
     "input": [
      "%%iframe new\n",
      "1"
     ],
     "language": "python",
     "metadata": {},
     "outputs": [
      {
       "output_type": "stream",
       "stream": "stdout",
       "text": [
        "Frame ID: _el_d5b0876d13394b55be497ca9b20bb96d\n"
       ]
      },
      {
       "html": [
        "\n",
        "    <script type=\"text/javascript\">\n",
        "    function _subframe_cb(ex) {\n",
        "        ex(\"1\");\n",
        "    }\n",
        "    </script>\n",
        "\n",
        "    <iframe\n",
        "        id=\"_el_d5b0876d13394b55be497ca9b20bb96d\"\n",
        "        src=\"/static/frame.html\"\n",
        "        width=\"95%\" height=\"200px\" style=\"border:none\">\n",
        "    </iframe>\n",
        "    "
       ],
       "metadata": {},
       "output_type": "display_data",
       "text": [
        "<IPython.core.display.HTML object>"
       ]
      }
     ],
     "prompt_number": 97
    },
    {
     "cell_type": "code",
     "collapsed": false,
     "input": [
      "%%iframejs\n",
      "\n",
      "require([\"widgets/js/manager\"], function(widgetmanager) {\n",
      "});\n"
     ],
     "language": "python",
     "metadata": {},
     "outputs": [
      {
       "html": [
        "\n",
        "    <script type=\"text/javascript\">\n",
        "        $(\"#_el_d5b0876d13394b55be497ca9b20bb96d\")[0].contentWindow.js_execute(\"\\nrequire([\\\"widgets/js/manager\\\"], function(widgetmanager) {\\n});\");\n",
        "    </script>\n",
        "    "
       ],
       "metadata": {},
       "output_type": "display_data",
       "text": [
        "<IPython.core.display.HTML object>"
       ]
      }
     ],
     "prompt_number": 99
    },
    {
     "cell_type": "code",
     "collapsed": false,
     "input": [
      "%%iframejs\n",
      "\n",
      "// TODO:\n",
      "// * code cleanup\n",
      "// * all content being hosted on a random gdrive public link, need to fix\n",
      "\n",
      "require([\"widgets/js/manager\", \"widgets/js/widget\"], function(widgetmanager, widget) {\n",
      "\n",
      "  var BattleCruiserView = widget.DOMWidgetView.extend({\n",
      "    render : function(){\n",
      "    },\n",
      "\n",
      "    handle_value: function(new_value) {\n",
      "    },\n",
      "\n",
      "    update : function(options){\n",
      "    },\n",
      "  });\n",
      "\n",
      "  \n",
      "  widgetmanager.WidgetManager.register_widget_view('BattleCruiserView', BattleCruiserView);\n",
      "});\n"
     ],
     "language": "python",
     "metadata": {},
     "outputs": [
      {
       "html": [
        "\n",
        "    <script type=\"text/javascript\">\n",
        "        $(\"#_el_d0c1b490e55b4e23b81718850e02a824\")[0].contentWindow.js_execute(\"\\n// TODO:\\n// * code cleanup\\n// * all content being hosted on a random gdrive public link, need to fix\\n\\nrequire([\\\"widgets/js/manager\\\", \\\"widgets/js/widget\\\"], function(widgetmanager, widget) {\\n\\n  var BattleCruiserView = widget.DOMWidgetView.extend({\\n    render : function(){\\n    },\\n\\n    handle_value: function(new_value) {\\n    },\\n\\n    update : function(options){\\n    },\\n  });\\n\\n  \\n  widgetmanager.WidgetManager.register_widget_view('BattleCruiserView', BattleCruiserView);\\n});\");\n",
        "    </script>\n",
        "    "
       ],
       "metadata": {},
       "output_type": "display_data",
       "text": [
        "<IPython.core.display.HTML object>"
       ]
      }
     ],
     "prompt_number": 90
    },
    {
     "cell_type": "code",
     "collapsed": false,
     "input": [
      "%%iframejs\n",
      "\n",
      "// TODO:\n",
      "// * code cleanup\n",
      "// * all content being hosted on a random gdrive public link, need to fix\n",
      "\n",
      "require([\"widgets/js/manager\"], function(widgetmanager) {\n",
      "\n",
      "  var BattleCruiserView = IPython.DOMWidgetView.extend({\n",
      "    render : function(){\n",
      "/*\n",
      "      // Called when view is rendered.\n",
      "\n",
      "      var audio = new Audio('https://drive.google.com/uc?export=view&id=0B_zpNTA3cxZhYlVQREMzRzU5VE0');\n",
      "      audio.play();\n",
      "        \n",
      "      \n",
      "        \n",
      "      //http://drive.google.com/uc?export=view&id=0B_zpNTA3cxZhSHhyR0dYNlhfcVk\n",
      "\n",
      "      // This is a single-line horizontal widget\n",
      "      this.$el\n",
      "        .addClass('widget-hbox-single')\n",
      "        .css({\n",
      "          'height': '480px',\n",
      "          'width': '640px',\n",
      "          'background-image':'url(https://drive.google.com/uc?export=view&id=0B_zpNTA3cxZhSHhyR0dYNlhfcVk)'});\n",
      "\n",
      "      // Add a label div, which will contain the description\n",
      "      this.$label = $('<div />')\n",
      "        .addClass('widget-hlabel')\n",
      "        .appendTo(this.$el)\n",
      "        .hide();\n",
      "\n",
      "      this.$value = $('<div />')\n",
      "        .addClass('widget-hlabel')\n",
      "        .appendTo(this.$el)\n",
      "        .hide();\n",
      "\n",
      "      this.$x_val = $('<div />')\n",
      "        .addClass('widget-hlabel')\n",
      "        .appendTo(this.$el)\n",
      "        .hide();\n",
      "\n",
      "      this.$y_val = $('<div />')\n",
      "        .addClass('widget-hlabel')\n",
      "        .appendTo(this.$el)\n",
      "        .hide();\n",
      "\n",
      "      this.$theta_val = $('<div />')\n",
      "        .addClass('widget-hlabel')\n",
      "        .appendTo(this.$el)\n",
      "        .hide();\n",
      "\n",
      "      this.$antiga_prime=$('<div />')\n",
      "        .appendTo(this.$el);\n",
      "\n",
      "      this.$antiga_prime.css({\n",
      "        'height' : '480px',\n",
      "        'width' : '640px',\n",
      "        'top' : 0,\n",
      "        'left' : 0\n",
      "\n",
      "      })\n",
      "\n",
      "      this.$bc_image=$('<div />')\n",
      "        .addClass('stuff')\n",
      "        .css(\"position\", \"relative\")\n",
      "        .appendTo(this.$antiga_prime);\n",
      "\n",
      "      this.$bc_image.append(\"<img src=https://drive.google.com/uc?export=view&id=0B_zpNTA3cxZhalY5YmFXckZiQWs> </img>\");\n",
      "\n",
      "      console.log(this.$bc_image.offset())\n",
      "      this.update(); // Set defaults.\n",
      "*/\n",
      "    },\n",
      "\n",
      "    handle_value: function(new_value) {\n",
      "/*\n",
      "      // Handles when the checkbox is clicked.\n",
      "\n",
      "      // Calling model.set will trigger all of the other views of the\n",
      "      // model to update.\n",
      "      this.model.set('value', new_value, {updated_view: this});\n",
      "      this.touch();\n",
      "*/\n",
      "    },\n",
      "\n",
      "    update : function(options){\n",
      "/*\n",
      "      // Update the contents of this view\n",
      "      //\n",
      "      // Called when the model is changed. The model may have been\n",
      "      // changed by another view or by a state update from the back-end.\n",
      "      // this.$checkbox.prop('checked', this.model.get('value'));\n",
      "\n",
      "      if (options === undefined || options.updated_view != this) {\n",
      "        this.$value.text(this.model.get('value'));\n",
      "        this.$x_val.text(this.model.get('x'));\n",
      "        this.$y_val.text(this.model.get('y'));\n",
      "        this.$theta_val.text(this.model.get('theta'));\n",
      "\n",
      "        this.$bc_image.children('img').rotate(this.model.get('theta')+310);\n",
      "        this.$bc_image.css({'left' : this.model.get('x'), 'top' : this.model.get('y')});\n",
      "\n",
      "\n",
      "        var description = this.model.get('description');\n",
      "        if (description.trim().length === 0) {\n",
      "          this.$label.hide();\n",
      "        } else {\n",
      "          this.$label.text(description);\n",
      "          MathJax.Hub.Queue([\"Typeset\",MathJax.Hub,this.$label.get(0)]);\n",
      "          this.$label.show();\n",
      "        }\n",
      "      }\n",
      "      return BattleCruiserView.__super__.update.apply(this);\n",
      "*/\n",
      "    },\n",
      "  });\n",
      "\n",
      "  \n",
      "  widgetmanager.WidgetManager.register_widget_view('BattleCruiserView', BattleCruiserView);\n",
      "});\n"
     ],
     "language": "python",
     "metadata": {},
     "outputs": [
      {
       "html": [
        "\n",
        "    <script type=\"text/javascript\">\n",
        "        $(\"#_el_a48a7a1736514e759631c99d835f7013\")[0].contentWindow.js_execute(\"\\n// TODO:\\n// * code cleanup\\n// * all content being hosted on a random gdrive public link, need to fix\\n\\nrequire([\\\"widgets/js/manager\\\"], function(widgetmanager) {\\n\\n  var BattleCruiserView = IPython.DOMWidgetView.extend({\\n    render : function(){\\n/*\\n      // Called when view is rendered.\\n\\n      var audio = new Audio('https://drive.google.com/uc?export=view&id=0B_zpNTA3cxZhYlVQREMzRzU5VE0');\\n      audio.play();\\n        \\n      \\n        \\n      //http://drive.google.com/uc?export=view&id=0B_zpNTA3cxZhSHhyR0dYNlhfcVk\\n\\n      // This is a single-line horizontal widget\\n      this.$el\\n        .addClass('widget-hbox-single')\\n        .css({\\n          'height': '480px',\\n          'width': '640px',\\n          'background-image':'url(https://drive.google.com/uc?export=view&id=0B_zpNTA3cxZhSHhyR0dYNlhfcVk)'});\\n\\n      // Add a label div, which will contain the description\\n      this.$label = $('<div />')\\n        .addClass('widget-hlabel')\\n        .appendTo(this.$el)\\n        .hide();\\n\\n      this.$value = $('<div />')\\n        .addClass('widget-hlabel')\\n        .appendTo(this.$el)\\n        .hide();\\n\\n      this.$x_val = $('<div />')\\n        .addClass('widget-hlabel')\\n        .appendTo(this.$el)\\n        .hide();\\n\\n      this.$y_val = $('<div />')\\n        .addClass('widget-hlabel')\\n        .appendTo(this.$el)\\n        .hide();\\n\\n      this.$theta_val = $('<div />')\\n        .addClass('widget-hlabel')\\n        .appendTo(this.$el)\\n        .hide();\\n\\n      this.$antiga_prime=$('<div />')\\n        .appendTo(this.$el);\\n\\n      this.$antiga_prime.css({\\n        'height' : '480px',\\n        'width' : '640px',\\n        'top' : 0,\\n        'left' : 0\\n\\n      })\\n\\n      this.$bc_image=$('<div />')\\n        .addClass('stuff')\\n        .css(\\\"position\\\", \\\"relative\\\")\\n        .appendTo(this.$antiga_prime);\\n\\n      this.$bc_image.append(\\\"<img src=https://drive.google.com/uc?export=view&id=0B_zpNTA3cxZhalY5YmFXckZiQWs> </img>\\\");\\n\\n      console.log(this.$bc_image.offset())\\n      this.update(); // Set defaults.\\n*/\\n    },\\n\\n    handle_value: function(new_value) {\\n/*\\n      // Handles when the checkbox is clicked.\\n\\n      // Calling model.set will trigger all of the other views of the\\n      // model to update.\\n      this.model.set('value', new_value, {updated_view: this});\\n      this.touch();\\n*/\\n    },\\n\\n    update : function(options){\\n/*\\n      // Update the contents of this view\\n      //\\n      // Called when the model is changed. The model may have been\\n      // changed by another view or by a state update from the back-end.\\n      // this.$checkbox.prop('checked', this.model.get('value'));\\n\\n      if (options === undefined || options.updated_view != this) {\\n        this.$value.text(this.model.get('value'));\\n        this.$x_val.text(this.model.get('x'));\\n        this.$y_val.text(this.model.get('y'));\\n        this.$theta_val.text(this.model.get('theta'));\\n\\n        this.$bc_image.children('img').rotate(this.model.get('theta')+310);\\n        this.$bc_image.css({'left' : this.model.get('x'), 'top' : this.model.get('y')});\\n\\n\\n        var description = this.model.get('description');\\n        if (description.trim().length === 0) {\\n          this.$label.hide();\\n        } else {\\n          this.$label.text(description);\\n          MathJax.Hub.Queue([\\\"Typeset\\\",MathJax.Hub,this.$label.get(0)]);\\n          this.$label.show();\\n        }\\n      }\\n      return BattleCruiserView.__super__.update.apply(this);\\n*/\\n    },\\n  });\\n\\n  \\n  widgetmanager.WidgetManager.register_widget_view('BattleCruiserView', BattleCruiserView);\\n});\");\n",
        "    </script>\n",
        "    "
       ],
       "metadata": {},
       "output_type": "display_data",
       "text": [
        "<IPython.core.display.HTML object>"
       ]
      }
     ],
     "prompt_number": 74
    },
    {
     "cell_type": "code",
     "collapsed": false,
     "input": [
      "class BattleCruiserView(DOMWidget):\n",
      "    _view_name = Unicode('BattleCruiserView', sync=True)\n",
      "    #_view_name = Unicode('FloatSliderView', sync=True)\n",
      "    value = CFloat(0.0, help=\"Float value\", sync=True)\n",
      "    axis_id = CInt(0, help='axis_id', sync=True)\n",
      "    x = CFloat(0.0, help=\"Position (x) of the battlecruiser\", sync=True)\n",
      "    y = CFloat(0.0, help=\"Position (y) of the battlecruiser\", sync=True)\n",
      "    theta = CFloat(0.0, help=\"Orientation (degrees) of the battlecruiser\", sync=True)\n",
      "    description = Unicode('', help=\"Description of the float (label).\", sync=True)"
     ],
     "language": "python",
     "metadata": {},
     "outputs": [],
     "prompt_number": 54
    },
    {
     "cell_type": "code",
     "collapsed": false,
     "input": [
      "class BattleCruiser:\n",
      "    def __init__(self, name=\"bc\"):\n",
      "        self.view=BattleCruiserView(description=name)\n",
      "\n",
      "    def cmd(self, x, z):\n",
      "        \"\"\"\n",
      "        Commands the battlecruiser with a twist of linear X, \n",
      "        and an angular Z.\n",
      "        \n",
      "        Examples:\n",
      "        cmd(1,0): battlecruiser should move forward 1 x unit.\n",
      "        cmd(0,30): battlecruiser should twist 30 degrees.\n",
      "        \"\"\"\n",
      "        self.view.x+=x*math.cos(math.radians(self.view.theta))\n",
      "        self.view.y+=x*math.sin(math.radians(self.view.theta))\n",
      "        self.view.theta-=z"
     ],
     "language": "python",
     "metadata": {},
     "outputs": [],
     "prompt_number": 43
    },
    {
     "cell_type": "code",
     "collapsed": false,
     "input": [
      "%%iframe\n",
      "\n",
      "commodore=BattleCruiserView(description=\"bc\")\n",
      "IPython.display.display(commodore)"
     ],
     "language": "python",
     "metadata": {},
     "outputs": [
      {
       "output_type": "stream",
       "stream": "stdout",
       "text": [
        "Output streamed to iframe _el_545fb304474c4f898c0c4e0f62218dd7\n"
       ]
      },
      {
       "html": [
        "\n",
        "    <script type=\"text/javascript\">\n",
        "        $(\"#_el_545fb304474c4f898c0c4e0f62218dd7\")[0].contentWindow.execute(\"\\ncommodore=BattleCruiserView(description=\\\"bc\\\")\\nIPython.display.display(commodore)\");\n",
        "    </script>\n",
        "    "
       ],
       "metadata": {},
       "output_type": "display_data",
       "text": [
        "<IPython.core.display.HTML object>"
       ]
      }
     ],
     "prompt_number": 58
    },
    {
     "cell_type": "code",
     "collapsed": false,
     "input": [
      "%%iframe new\n",
      "1"
     ],
     "language": "python",
     "metadata": {},
     "outputs": [
      {
       "output_type": "stream",
       "stream": "stdout",
       "text": [
        "Frame ID: _el_545fb304474c4f898c0c4e0f62218dd7\n"
       ]
      },
      {
       "html": [
        "\n",
        "    <script type=\"text/javascript\">\n",
        "    function _subframe_cb(ex) {\n",
        "        ex(\"1\");\n",
        "    }\n",
        "    </script>\n",
        "\n",
        "    <iframe\n",
        "        id=\"_el_545fb304474c4f898c0c4e0f62218dd7\"\n",
        "        src=\"/static/frame.html\"\n",
        "        width=\"95%\" height=\"200px\" style=\"border:none\">\n",
        "    </iframe>\n",
        "    "
       ],
       "metadata": {},
       "output_type": "display_data",
       "text": [
        "<IPython.core.display.HTML object>"
       ]
      }
     ],
     "prompt_number": 56
    },
    {
     "cell_type": "code",
     "collapsed": false,
     "input": [],
     "language": "python",
     "metadata": {},
     "outputs": []
    }
   ],
   "metadata": {}
  }
 ]
}