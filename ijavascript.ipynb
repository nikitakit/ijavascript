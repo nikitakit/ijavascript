{
 "metadata": {
  "kernelspec": {
   "codemirror_mode": {
    "name": "ipython",
    "version": 2
   },
   "display_name": "IPython (Python 2)",
   "language": "python",
   "name": "python2"
  },
  "name": "",
  "signature": "sha256:9f867d37ada4e83ce1ee7b5be1c698ea718641f94f5ccdb15981927c06cb5752"
 },
 "nbformat": 3,
 "nbformat_minor": 0,
 "worksheets": [
  {
   "cells": [
    {
     "cell_type": "code",
     "collapsed": false,
     "input": [
      "import IPython.display"
     ],
     "language": "python",
     "metadata": {},
     "outputs": [],
     "prompt_number": 1
    },
    {
     "cell_type": "code",
     "collapsed": false,
     "input": [
      "from IPython.core.magic import (register_line_magic, register_cell_magic,\n",
      "                                register_line_cell_magic)"
     ],
     "language": "python",
     "metadata": {},
     "outputs": [],
     "prompt_number": 2
    },
    {
     "cell_type": "code",
     "collapsed": false,
     "input": [
      "from IPython.html.widgets import *"
     ],
     "language": "python",
     "metadata": {},
     "outputs": [],
     "prompt_number": 3
    },
    {
     "cell_type": "code",
     "collapsed": false,
     "input": [
      "import json"
     ],
     "language": "python",
     "metadata": {},
     "outputs": [],
     "prompt_number": 4
    },
    {
     "cell_type": "code",
     "collapsed": false,
     "input": [
      "import uuid"
     ],
     "language": "python",
     "metadata": {},
     "outputs": [],
     "prompt_number": 5
    },
    {
     "cell_type": "code",
     "collapsed": false,
     "input": [
      "def get_random_id():\n",
      "    return \"_el_\" + \"\".join(str(uuid.uuid4()).split(\"-\"))"
     ],
     "language": "python",
     "metadata": {},
     "outputs": [],
     "prompt_number": 6
    },
    {
     "cell_type": "code",
     "collapsed": false,
     "input": [
      "last_iframe_id = None\n",
      "@register_cell_magic\n",
      "def iframe(line, cell):\n",
      "    global last_iframe_id\n",
      "    if line == \"new\" or not last_iframe_id:\n",
      "        my_id = get_random_id()\n",
      "        last_iframe_id = my_id\n",
      "        print \"Frame ID:\", my_id\n",
      "        h = IPython.display.HTML(\"\"\"\n",
      "    <script type=\"text/javascript\">\n",
      "    function _subframe_cb(ex) {{\n",
      "        ex({text});\n",
      "    }}\n",
      "    </script>\n",
      "\n",
      "    <iframe\n",
      "        id=\"{id}\"\n",
      "        src=\"/static/frame.html\"\n",
      "        width=\"95%\" height=\"200px\" style=\"border:none\">\n",
      "    </iframe>\n",
      "    \"\"\".format(id=my_id, text=json.dumps(cell)))\n",
      "    elif line:\n",
      "        print \"Output streamed to iframe\", line\n",
      "        h = IPython.display.HTML(\"\"\"\n",
      "    <script type=\"text/javascript\">\n",
      "        $(\"#{id}\")[0].contentWindow.execute({text});\n",
      "    </script>\n",
      "    \"\"\".format(id=line, text=json.dumps(cell)))\n",
      "    else:\n",
      "        print \"Output streamed to iframe\", last_iframe_id\n",
      "        h = IPython.display.HTML(\"\"\"\n",
      "    <script type=\"text/javascript\">\n",
      "        $(\"#{id}\")[0].contentWindow.execute({text});\n",
      "    </script>\n",
      "    \"\"\".format(id=last_iframe_id, text=json.dumps(cell)))\n",
      "    \n",
      "    IPython.display.display(h)"
     ],
     "language": "python",
     "metadata": {},
     "outputs": [],
     "prompt_number": 7
    },
    {
     "cell_type": "code",
     "collapsed": false,
     "input": [
      "@register_cell_magic\n",
      "def iframejs(line, cell):\n",
      "    global last_iframe_id\n",
      "    if not line or line == \"last\":\n",
      "        line = last_iframe_id\n",
      "    h = IPython.display.HTML(\"\"\"\n",
      "    <script type=\"text/javascript\">\n",
      "        $(\"#{id}\")[0].contentWindow.js_execute({text});\n",
      "    </script>\n",
      "    \"\"\".format(id=line, text=json.dumps(cell)))  \n",
      "    \n",
      "    IPython.display.display(h)"
     ],
     "language": "python",
     "metadata": {},
     "outputs": [],
     "prompt_number": 8
    },
    {
     "cell_type": "code",
     "collapsed": false,
     "input": [
      "%%iframe new\n",
      "for i in range(10):\n",
      "    print i\n",
      "IPython.display.display(IntSlider())\n",
      "5+5"
     ],
     "language": "python",
     "metadata": {},
     "outputs": [
      {
       "output_type": "stream",
       "stream": "stdout",
       "text": [
        "Frame ID: _el_dac5c3908f204998a540a4bad054b721\n"
       ]
      },
      {
       "html": [
        "\n",
        "    <script type=\"text/javascript\">\n",
        "    function _subframe_cb(ex) {\n",
        "        ex(\"for i in range(10):\\n    print i\\nIPython.display.display(IntSlider())\\n5+5\");\n",
        "    }\n",
        "    </script>\n",
        "\n",
        "    <iframe\n",
        "        id=\"_el_dac5c3908f204998a540a4bad054b721\"\n",
        "        src=\"/static/frame.html\"\n",
        "        width=\"95%\" height=\"200px\" style=\"border:none\">\n",
        "    </iframe>\n",
        "    "
       ],
       "metadata": {},
       "output_type": "display_data",
       "text": [
        "<IPython.core.display.HTML object>"
       ]
      }
     ],
     "prompt_number": 9
    },
    {
     "cell_type": "code",
     "collapsed": false,
     "input": [
      "def foo(x):\n",
      "    global last_x\n",
      "    last_x = x\n",
      "    print x"
     ],
     "language": "python",
     "metadata": {},
     "outputs": [],
     "prompt_number": 11
    },
    {
     "cell_type": "code",
     "collapsed": false,
     "input": [
      "%%iframe\n",
      "print 5"
     ],
     "language": "python",
     "metadata": {},
     "outputs": [
      {
       "output_type": "stream",
       "stream": "stdout",
       "text": [
        "Output streamed to iframe _el_dac5c3908f204998a540a4bad054b721\n"
       ]
      },
      {
       "html": [
        "\n",
        "    <script type=\"text/javascript\">\n",
        "        $(\"#_el_dac5c3908f204998a540a4bad054b721\")[0].contentWindow.execute(\"print 5\");\n",
        "    </script>\n",
        "    "
       ],
       "metadata": {},
       "output_type": "display_data",
       "text": [
        "<IPython.core.display.HTML object>"
       ]
      }
     ],
     "prompt_number": 12
    },
    {
     "cell_type": "code",
     "collapsed": false,
     "input": [
      "%%iframe\n",
      "IPython.display.clear_output()\n",
      "w = interactive(foo, x=5) # prints 5 to the console\n",
      "foo.widget = w\n",
      "IPython.display.display(w)"
     ],
     "language": "python",
     "metadata": {},
     "outputs": [
      {
       "output_type": "stream",
       "stream": "stdout",
       "text": [
        "Output streamed to iframe _el_dac5c3908f204998a540a4bad054b721\n"
       ]
      },
      {
       "html": [
        "\n",
        "    <script type=\"text/javascript\">\n",
        "        $(\"#_el_dac5c3908f204998a540a4bad054b721\")[0].contentWindow.execute(\"IPython.display.clear_output()\\nw = interactive(foo, x=5) # prints 5 to the console\\nfoo.widget = w\\nIPython.display.display(w)\");\n",
        "    </script>\n",
        "    "
       ],
       "metadata": {},
       "output_type": "display_data",
       "text": [
        "<IPython.core.display.HTML object>"
       ]
      }
     ],
     "prompt_number": 14
    },
    {
     "cell_type": "code",
     "collapsed": false,
     "input": [
      "%%iframejs\n",
      "console.log(5)"
     ],
     "language": "python",
     "metadata": {},
     "outputs": [
      {
       "html": [
        "\n",
        "    <script type=\"text/javascript\">\n",
        "        $(\"#_el_dac5c3908f204998a540a4bad054b721\")[0].contentWindow.js_execute(\"console.log(5)\");\n",
        "    </script>\n",
        "    "
       ],
       "metadata": {},
       "output_type": "display_data",
       "text": [
        "<IPython.core.display.HTML object>"
       ]
      }
     ],
     "prompt_number": 16
    },
    {
     "cell_type": "code",
     "collapsed": false,
     "input": [],
     "language": "python",
     "metadata": {},
     "outputs": []
    },
    {
     "cell_type": "code",
     "collapsed": false,
     "input": [],
     "language": "python",
     "metadata": {},
     "outputs": []
    }
   ],
   "metadata": {}
  }
 ]
}